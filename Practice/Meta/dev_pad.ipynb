{
 "cells": [
  {
   "cell_type": "code",
   "execution_count": 2,
   "metadata": {},
   "outputs": [],
   "source": [
    "import random"
   ]
  },
  {
   "cell_type": "code",
   "execution_count": 3,
   "metadata": {},
   "outputs": [
    {
     "data": {
      "text/plain": [
       "0.9861634149607029"
      ]
     },
     "execution_count": 3,
     "metadata": {},
     "output_type": "execute_result"
    }
   ],
   "source": [
    "random.random()"
   ]
  },
  {
   "cell_type": "code",
   "execution_count": 4,
   "metadata": {},
   "outputs": [
    {
     "name": "stdout",
     "output_type": "stream",
     "text": [
      "[Producer 2] Produced: Producer 2 - Item 0\n",
      "[Consumer 0] Processing: Producer 2 - Item 0\n",
      "[Producer 1] Produced: Producer 1 - Item 0\n",
      "[Consumer 1] Processing: Producer 1 - Item 0\n",
      "[Producer 0] Produced: Producer 0 - Item 0\n",
      "[Producer 0] Produced: Producer 0 - Item 1\n",
      "[Producer 1] Produced: Producer 1 - Item 1\n",
      "[Producer 2] Produced: Producer 2 - Item 1\n",
      "[Producer 1] Produced: Producer 1 - Item 2\n",
      "[Producer 0] Produced: Producer 0 - Item 2\n",
      "[Consumer 1] Finished: Producer 1 - Item 0\n",
      "[Consumer 1] Processing: Producer 0 - Item 0\n",
      "[Producer 0] Produced: Producer 0 - Item 3\n",
      "[Consumer 0] Finished: Producer 2 - Item 0\n",
      "[Consumer 0] Processing: Producer 0 - Item 1\n",
      "[Producer 2] Produced: Producer 2 - Item 2\n",
      "[Producer 1] Produced: Producer 1 - Item 3\n",
      "[Producer 0] Produced: Producer 0 - Item 4\n",
      "[Producer 0] Done producing.\n",
      "[Producer 2] Produced: Producer 2 - Item 3\n",
      "[Consumer 1] Finished: Producer 0 - Item 0\n",
      "[Consumer 1] Processing: Producer 1 - Item 1\n",
      "[Consumer 0] Finished: Producer 0 - Item 1\n",
      "[Consumer 0] Processing: Producer 2 - Item 1\n",
      "[Producer 1] Produced: Producer 1 - Item 4\n",
      "[Producer 1] Done producing.\n",
      "[Consumer 1] Finished: Producer 1 - Item 1\n",
      "[Consumer 1] Processing: Producer 1 - Item 2[Producer 2] Produced: Producer 2 - Item 4\n",
      "\n",
      "[Consumer 0] Finished: Producer 2 - Item 1\n",
      "[Consumer 0] Processing: Producer 0 - Item 2[Producer 2] Done producing.\n",
      "\n",
      "[Consumer 1] Finished: Producer 1 - Item 2\n",
      "[Consumer 1] Processing: Producer 0 - Item 3\n",
      "[Consumer 1] Finished: Producer 0 - Item 3\n",
      "[Consumer 1] Processing: Producer 2 - Item 2\n",
      "[Consumer 0] Finished: Producer 0 - Item 2\n",
      "[Consumer 0] Processing: Producer 1 - Item 3\n",
      "[Consumer 0] Finished: Producer 1 - Item 3\n",
      "[Consumer 0] Processing: Producer 0 - Item 4\n",
      "[Consumer 0] Finished: Producer 0 - Item 4\n",
      "[Consumer 1] Finished: Producer 2 - Item 2\n",
      "[Consumer 1] Processing: Producer 2 - Item 3\n",
      "[Consumer 1] Finished: Producer 2 - Item 3\n",
      "[Consumer 1] Processing: Producer 1 - Item 4\n",
      "[Consumer 1] Finished: Producer 1 - Item 4\n",
      "All processes completed.\n"
     ]
    }
   ],
   "source": [
    "import multiprocessing as mp\n",
    "import time\n",
    "import random\n",
    "\n",
    "def producer(queue, producer_id, num_items):\n",
    "    \"\"\"Producer function that places items into a shared queue.\"\"\"\n",
    "    for i in range(num_items):\n",
    "        # Create an item to produce\n",
    "        item = f\"Producer {producer_id} - Item {i}\"\n",
    "        \n",
    "        # Simulate variable production time\n",
    "        time.sleep(random.uniform(0.1, 0.5))\n",
    "        \n",
    "        # Place item in the queue\n",
    "        queue.put(item)\n",
    "        print(f\"[Producer {producer_id}] Produced: {item}\")\n",
    "    \n",
    "    # Indicate this producer is done\n",
    "    queue.put(None)  # Sentinel value\n",
    "    print(f\"[Producer {producer_id}] Done producing.\")\n",
    "\n",
    "def consumer(queue, consumer_id):\n",
    "    \"\"\"Consumer function that processes items from a shared queue.\"\"\"\n",
    "    while True:\n",
    "        # Get an item from the queue, waiting if necessary\n",
    "        item = queue.get()\n",
    "        \n",
    "        # Check for sentinel value (end of production)\n",
    "        if item is None:\n",
    "            # Put the sentinel back for other consumers and exit\n",
    "            queue.put(None)\n",
    "            break\n",
    "            \n",
    "        # Process the item (simulate work)\n",
    "        print(f\"[Consumer {consumer_id}] Processing: {item}\")\n",
    "        time.sleep(random.uniform(0.2, 0.8))  # Simulate processing time\n",
    "        \n",
    "        print(f\"[Consumer {consumer_id}] Finished: {item}\")\n",
    "\n",
    "def main():\n",
    "    # Create a multiprocessing queue for thread-safe communication\n",
    "    queue = mp.Queue(maxsize=10)  # Limit queue size to prevent memory issues\n",
    "    \n",
    "    # Number of producers and consumers\n",
    "    num_producers = 3\n",
    "    num_consumers = 2\n",
    "    items_per_producer = 5\n",
    "    \n",
    "    # Create and start producer processes\n",
    "    producers = []\n",
    "    for i in range(num_producers):\n",
    "        p = mp.Process(target=producer, args=(queue, i, items_per_producer))\n",
    "        producers.append(p)\n",
    "        p.start()\n",
    "    \n",
    "    # Create and start consumer processes\n",
    "    consumers = []\n",
    "    for i in range(num_consumers):\n",
    "        c = mp.Process(target=consumer, args=(queue, i))\n",
    "        consumers.append(c)\n",
    "        c.start()\n",
    "    \n",
    "    # Wait for all producers to finish\n",
    "    for p in producers:\n",
    "        p.join()\n",
    "    \n",
    "    # Wait for all consumers to finish\n",
    "    for c in consumers:\n",
    "        c.join()\n",
    "    \n",
    "    print(\"All processes completed.\")\n",
    "\n",
    "if __name__ == \"__main__\":\n",
    "    # This guard is essential for multiprocessing\n",
    "    main()\n"
   ]
  },
  {
   "cell_type": "code",
   "execution_count": null,
   "metadata": {},
   "outputs": [],
   "source": []
  }
 ],
 "metadata": {
  "kernelspec": {
   "display_name": "agent",
   "language": "python",
   "name": "python3"
  },
  "language_info": {
   "codemirror_mode": {
    "name": "ipython",
    "version": 3
   },
   "file_extension": ".py",
   "mimetype": "text/x-python",
   "name": "python",
   "nbconvert_exporter": "python",
   "pygments_lexer": "ipython3",
   "version": "3.11.11"
  }
 },
 "nbformat": 4,
 "nbformat_minor": 2
}
